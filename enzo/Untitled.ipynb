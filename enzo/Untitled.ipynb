{
 "cells": [
  {
   "cell_type": "code",
   "execution_count": 1,
   "metadata": {},
   "outputs": [],
   "source": [
    "import numpy as np\n",
    "\n",
    "def omega_b (ahat, xba):\n",
    "    den = np.sqrt(1+(ahat.dot(xba/(np.sqrt(xba.dot(xba))))\\\n",
    "                         /(np.pi*xba.dot(xba))))\n",
    "    return 0.5 * (1- 1/den)\n",
    "def sum_terms(wc, xvec):\n",
    "    ax = [0,1,2]\n",
    "    ret = 0.0\n",
    "    for x in ax:\n",
    "        for y in ax:\n",
    "            for z in ax:\n",
    "                if x == y == z == 1:\n",
    "                    continue\n",
    "                ret += wc[x,y,z]*np.sqrt(xvec[x,y,z].dot(xvec[x,y,z]))\n",
    "\n",
    "    return ret\n",
    "def fnumber (xplus, xminus, wc, pm):\n",
    "    if pm == 'm':\n",
    "        return np.sqrt(0.5*(1 + sum_terms(wc, xplus)/ sum_terms(wc, xminus)))\n",
    "    if pm == 'p':\n",
    "        return np.sqrt(0.5*(1.+sum_terms(wc, xminus)/sum_terms(wc, xplus)))\n",
    "                                         \n",
    "        "
   ]
  },
  {
   "cell_type": "code",
   "execution_count": 2,
   "metadata": {},
   "outputs": [],
   "source": [
    "dx = 1e-2\n",
    "ax = [0,1,2]\n",
    "c = np.array([0.,0.,0.])\n",
    "fbpos = np.zeros((3,3,3,3))\n",
    "for x in ax:\n",
    "    for y in ax:\n",
    "        for z in ax:\n",
    "            fbpos[x,y,z,0] = (x-1)*dx\n",
    "            fbpos[x,y,z,1] = (y-1)*dx\n",
    "            fbpos[x,y,z,2] = (z-1)*dx"
   ]
  },
  {
   "cell_type": "code",
   "execution_count": 3,
   "metadata": {},
   "outputs": [],
   "source": [
    "xba = c-fbpos\n",
    "ahats = np.zeros((3,3,3,3))\n",
    "for x in ax:\n",
    "    for y in ax:\n",
    "        for z in ax:\n",
    "            if x == y == z == 1.0:\n",
    "                ahats[x,y,z] = np.array([0.,0.,0.])\n",
    "            else:\n",
    "                ahats[x,y,z] = xba[x,y,z]/np.sqrt(xba[x,y,z]\\\n",
    "                                                  .dot(xba[x,y,z]))\n"
   ]
  },
  {
   "cell_type": "code",
   "execution_count": 4,
   "metadata": {},
   "outputs": [],
   "source": [
    "wb = np.zeros((3,3,3))\n",
    "for x in ax:\n",
    "    for y in ax:\n",
    "        for z in ax:\n",
    "            if x==y==z==1:\n",
    "                continue\n",
    "            else:\n",
    "                wb[x,y,z] = omega_b(ahats[x,y,z], xba[x,y,z])\n",
    "wb /= np.sum(wb)"
   ]
  },
  {
   "cell_type": "code",
   "execution_count": 5,
   "metadata": {},
   "outputs": [
    {
     "name": "stdout",
     "output_type": "stream",
     "text": [
      "[[[0.03824106 0.03846305 0.03824106]\n",
      "  [0.03846305 0.03875249 0.03846305]\n",
      "  [0.03824106 0.03846305 0.03824106]]\n",
      "\n",
      " [[0.03846305 0.03875249 0.03846305]\n",
      "  [0.03875249 0.         0.03875249]\n",
      "  [0.03846305 0.03875249 0.03846305]]\n",
      "\n",
      " [[0.03824106 0.03846305 0.03824106]\n",
      "  [0.03846305 0.03875249 0.03846305]\n",
      "  [0.03824106 0.03846305 0.03824106]]]\n"
     ]
    }
   ],
   "source": [
    "print(wb)\n"
   ]
  },
  {
   "cell_type": "code",
   "execution_count": 8,
   "metadata": {},
   "outputs": [],
   "source": [
    "xba_plus = np.zeros((3,3,3,3))\n",
    "xba_minus = np.zeros((3,3,3,3))\n",
    "for x in ax:\n",
    "    for y in ax:\n",
    "        for z in ax:\n",
    "            for j in ax:\n",
    "                xba_plus[x,y,z,j] = max([xba[x,y,z,j], 0.0])\n",
    "                xba_minus[x,y,z,j] = min([xba[x,y,z,j],0.0])\n",
    "                        "
   ]
  },
  {
   "cell_type": "code",
   "execution_count": 9,
   "metadata": {},
   "outputs": [],
   "source": [
    "f_pm = np.zeros((3,3,3,3,2))\n",
    "for x in ax:\n",
    "    for y in ax:\n",
    "        for z in ax:\n",
    "            for alpha in ax:\n",
    "                f_pm[x,y,z,alpha,0] = fnumber(xba_plus, xba_minus,wb, 'm')\n",
    "                f_pm[x,y,z,alpha,1] = fnumber(xba_plus, xba_minus, wb, 'p')\n",
    "            "
   ]
  },
  {
   "cell_type": "code",
   "execution_count": 10,
   "metadata": {
    "scrolled": true
   },
   "outputs": [
    {
     "name": "stdout",
     "output_type": "stream",
     "text": [
      "[0. 0. 0.]\n"
     ]
    },
    {
     "name": "stderr",
     "output_type": "stream",
     "text": [
      "/home/azton/simulations/depend/yt-conda/lib/python3.6/site-packages/ipykernel_launcher.py:5: RuntimeWarning: invalid value encountered in true_divide\n",
      "  \"\"\"\n"
     ]
    }
   ],
   "source": [
    "weightFinal = np.zeros((3,3,3,3))\n",
    "for x in ax:\n",
    "    for y in ax:\n",
    "        for z in ax:\n",
    "            weightFinal[x,y,z] = wb[x,y,z] \\\n",
    "            * xba[x,y,z]/np.sqrt(xba[x,y,z]\\\n",
    "            .dot(xba[x,y,z]))\n",
    "weightFinal[1,1,1] = [0,0,0]\n",
    "print(weightFinal[1,1,1])"
   ]
  },
  {
   "cell_type": "code",
   "execution_count": 15,
   "metadata": {},
   "outputs": [
    {
     "name": "stdout",
     "output_type": "stream",
     "text": [
      "[[ 0.02207848  0.         -0.02207848]\n",
      " [ 0.02719748  0.         -0.02719748]\n",
      " [ 0.02207848  0.         -0.02207848]]\n"
     ]
    },
    {
     "data": {
      "text/plain": [
       "<matplotlib.image.AxesImage at 0x7f933800fcc0>"
      ]
     },
     "execution_count": 15,
     "metadata": {},
     "output_type": "execute_result"
    },
    {
     "data": {
      "image/png": "[encoded data removed]",
      "text/plain": [
       "<Figure size 288x288 with 1 Axes>"
      ]
     },
     "metadata": {},
     "output_type": "display_data"
    }
   ],
   "source": [
    "import matplotlib.pyplot as plt\n",
    "from matplotlib.colors import LogNorm\n",
    "print(weightFinal[:,:,0,1])\n",
    "plt.matshow(weightFinal[:,:,0,1])\n"
   ]
  },
  {
   "cell_type": "code",
   "execution_count": 2,
   "metadata": {},
   "outputs": [],
   "source": [
    "xunits = 3.086e21\n",
    "dunits = 1.6737e-25\n",
    "tunits = 3.15e13\n",
    "msolar = 1.9989e33\n",
    "mh = 1.67e-24\n",
    "nb = dunits/mh # n/cm^3\n",
    "eunits = dunits*xunits**5/tunits # ergs\n",
    "munits = dunits*xunits**3\n",
    "punits = munits*xunits/tunits #Msolar*cm/s\n",
    "e51 = 1e51 # ergs\n",
    "e51 /= eunits #code\n",
    "m_ej = 10.5 * msolar # g\n",
    "m_ej /= munits # code\n",
    "p_ej = np.sqrt(e51*eunits * 2.0 * m_ej*munits) # g*cm/s"
   ]
  },
  {
   "cell_type": "code",
   "execution_count": 3,
   "metadata": {},
   "outputs": [
    {
     "name": "stdout",
     "output_type": "stream",
     "text": [
      "3.241e+04\n",
      "1.344e-05\n"
     ]
    }
   ],
   "source": [
    "print('%0.3e'%(p_ej/msolar/1e5))\n",
    "print('%0.3e'%(p_ej/punits))"
   ]
  },
  {
   "cell_type": "code",
   "execution_count": 4,
   "metadata": {},
   "outputs": [
    {
     "name": "stdout",
     "output_type": "stream",
     "text": [
      "p_t [msun*km/s]: 1.333e+06\n"
     ]
    }
   ],
   "source": [
    "p_t = 4.8*10**5*(nb**(-1/7.))*(e51*eunits/1e51)**(13./14.)*2.0 # Msun*km/s\n",
    "print('p_t [msun*km/s]: %0.3e'%p_t)\n",
    "p_t *= msolar #g*km/s\n",
    "p_t *= 1e5 # g*cm/s"
   ]
  },
  {
   "cell_type": "code",
   "execution_count": 5,
   "metadata": {},
   "outputs": [
    {
     "name": "stdout",
     "output_type": "stream",
     "text": [
      "2.666e+44\n",
      "5.531e-04\n"
     ]
    }
   ],
   "source": [
    "print('%0.3e'%p_t)\n",
    "print('%0.3e'%(p_t/punits))"
   ]
  },
  {
   "cell_type": "code",
   "execution_count": 6,
   "metadata": {},
   "outputs": [
    {
     "data": {
      "text/plain": [
       "5.164813934041355e+40"
      ]
     },
     "execution_count": 6,
     "metadata": {},
     "output_type": "execute_result"
    }
   ],
   "source": [
    "10.5*munits"
   ]
  },
  {
   "cell_type": "code",
   "execution_count": 7,
   "metadata": {},
   "outputs": [
    {
     "name": "stdout",
     "output_type": "stream",
     "text": [
      "4.9188704133727194e+39 1.4871222482295907e+69 4.8189314589422895e+47 0.10022155688622754\n"
     ]
    }
   ],
   "source": [
    "print(munits, eunits, punits,nb)"
   ]
  },
  {
   "cell_type": "code",
   "execution_count": null,
   "metadata": {},
   "outputs": [],
   "source": []
  }
 ],
 "metadata": {
  "kernelspec": {
   "display_name": "Python 3",
   "language": "python",
   "name": "python3"
  },
  "language_info": {
   "codemirror_mode": {
    "name": "ipython",
    "version": 3
   },
   "file_extension": ".py",
   "mimetype": "text/x-python",
   "name": "python",
   "nbconvert_exporter": "python",
   "pygments_lexer": "ipython3",
   "version": "3.6.7"
  }
 },
 "nbformat": 4,
 "nbformat_minor": 2
}
